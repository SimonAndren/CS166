{
 "cells": [
  {
   "cell_type": "code",
   "execution_count": 1,
   "metadata": {},
   "outputs": [],
   "source": [
    "#import all packages\n",
    "import heapq\n",
    "import numpy as np\n",
    "import scipy.stats as sts\n",
    "import matplotlib.pyplot as plt"
   ]
  },
  {
   "cell_type": "code",
   "execution_count": 2,
   "metadata": {},
   "outputs": [],
   "source": [
    "class Event:\n",
    "    '''\n",
    "    Store the properties of one event in the Schedule class defined below. Each\n",
    "    event has a time at which it needs to run, a function to call when running\n",
    "    the event, along with the arguments and keyword arguments to pass to that\n",
    "    function.\n",
    "    '''\n",
    "    def __init__(self, timestamp, function, *args, **kwargs):\n",
    "        self.timestamp = timestamp\n",
    "        self.function = function\n",
    "        self.args = args\n",
    "        self.kwargs = kwargs\n",
    "\n",
    "    def __lt__(self, other):\n",
    "        '''\n",
    "        This overloads the less-than operator in Python. We need it so the\n",
    "        priority queue knows how to compare two events. We want events with\n",
    "        earlier (smaller) times to go first.\n",
    "        '''\n",
    "        return self.timestamp < other.timestamp\n",
    "\n",
    "    def run(self, schedule):\n",
    "        '''\n",
    "        Run an event by calling the function with its arguments and keyword\n",
    "        arguments. The first argument to any event function is always the\n",
    "        schedule in which events are being tracked. The schedule object can be\n",
    "        used to add new events to the priority queue.\n",
    "        '''\n",
    "        self.function(schedule, *self.args, **self.kwargs)\n",
    "\n",
    "\n",
    "class Schedule:\n",
    "    '''\n",
    "    Implement an event schedule using a priority queue. You can add events and\n",
    "    run the next event.\n",
    "    \n",
    "    The `now` attribute contains the time at which the last event was run.\n",
    "    '''\n",
    "    \n",
    "    def __init__(self):\n",
    "        self.now = 0  # Keep track of the current simulation time\n",
    "        self.priority_queue = []  # The priority queue of events to run\n",
    "    \n",
    "    def add_event_at(self, timestamp, function, *args, **kwargs):\n",
    "        # Add an event to the schedule at a particular point in time.\n",
    "        heapq.heappush(\n",
    "            self.priority_queue,\n",
    "            Event(timestamp, function, *args, **kwargs))\n",
    "    \n",
    "    def add_event_after(self, interval, function, *args, **kwargs):\n",
    "        # Add an event to the schedule after a specified time interval.\n",
    "        self.add_event_at(self.now + interval, function, *args, **kwargs)\n",
    "    \n",
    "    def next_event_time(self):\n",
    "        # Return the time of the next event. The `now` attribute of this class\n",
    "        # contain the time of the last event that was run.\n",
    "        return self.priority_queue[0].timestamp\n",
    "\n",
    "    def run_next_event(self):\n",
    "        # Get the next event from the priority queue and run it.\n",
    "        event = heapq.heappop(self.priority_queue)\n",
    "        self.now = event.timestamp\n",
    "        event.run(self)\n",
    "        \n",
    "    def __repr__(self):\n",
    "        return (\n",
    "            f'Schedule() at time {self.now} ' +\n",
    "            f'with {len(self.priority_queue)} events in the queue')\n",
    "    \n",
    "    def print_events(self):\n",
    "        # Print out diagnostic information about the events in the schedule.\n",
    "        print(repr(self))\n",
    "        for event in sorted(self.priority_queue):\n",
    "            print(f'   {event.timestamp}: {event.function.__name__}')"
   ]
  },
  {
   "cell_type": "code",
   "execution_count": 3,
   "metadata": {},
   "outputs": [],
   "source": [
    "class Queue():\n",
    "    \"\"\"This class handles a queue. It holds data for the history of the queue,\n",
    "    which is the queue length when each customer arrives to it, when they departure, and the length\n",
    "    when a customer arrives\"\"\"\n",
    "    \n",
    "    #Defined the data that the instance should hold\n",
    "    def __init__(self, service_rate):\n",
    "        self.history = [] #history of the queue\n",
    "        self.length = 0\n",
    "        self.service_time = 1/service_rate #service rate\n",
    "    \n",
    "    #initialize the service of one customer\n",
    "    def service_customer(self, schedule):\n",
    "        #start the service of the customer i.e. schedules new event departure_customer\n",
    "        schedule.add_event_after(self.service_time, self.departure_customer)\n",
    "    \n",
    "    #depart a customer after they've been served\n",
    "    def departure_customer(self, schedule):\n",
    "        \n",
    "        #update the departure time for the customer\n",
    "        self.history[-self.length][2] = schedule.now\n",
    "        \n",
    "        #depart 1 customer\n",
    "        self.length -= 1\n",
    "        \n",
    "        #if there is a queue, add a new customer to t\n",
    "        if self.length > 0:\n",
    "            self.service_customer(schedule)\n",
    "\n",
    "class GroceryStore():\n",
    "    \"\"\"This class is the grocery store and hold the queue. \n",
    "    This class also handles the arrivals to the store\"\"\"\n",
    "    \n",
    "    #Defined the data that the instance should hold\n",
    "    def __init__(self, arrival_rate, service_rate):\n",
    "        self.arrival_rate = arrival_rate #arrival rate\n",
    "        self.queue = Queue(service_rate) #creates a queue for the GroceryStore\n",
    "\n",
    "    \n",
    "    #This method adds an event that is add_to_queue to the scheduler\n",
    "    def arrival_time_customer(self, schedule):\n",
    "        \n",
    "        #find the distance to next arrival from a exponential distribution\n",
    "        interval = sts.expon.rvs(scale = 1/self.arrival_rate)\n",
    "        \n",
    "        #adds the arrival event with the arrival interval to the schedule\n",
    "        schedule.add_event_after(interval, self.add_to_queue)\n",
    "    \n",
    "    def add_to_queue(self, schedule):\n",
    "        \n",
    "        #appends a new customer to the queue, \n",
    "        #arg: historical_position, time of arrival, None (placeholder for departure time)\n",
    "        self.queue.history.append([self.queue.length + 1, schedule.now, None])\n",
    "        \n",
    "        #increase the queue length by 1\n",
    "        self.queue.length += 1\n",
    "        \n",
    "        #schedule new arrival\n",
    "        self.arrival_time_customer(schedule)\n",
    "        \n",
    "        #if the queue only has one customer that just arrived, schedule the service\n",
    "        if self.queue.length == 1:\n",
    "            self.queue.service_customer(schedule)\n"
   ]
  },
  {
   "cell_type": "code",
   "execution_count": 4,
   "metadata": {},
   "outputs": [],
   "source": [
    "def run_simulation(arrival_rate, service_rate, run_until):\n",
    "    \"\"\"This function runs the simulation and has access to all the instances of GroceryStore & Queue\"\"\"\n",
    "    \n",
    "    #creates a GroceryStore instance\n",
    "    Grocery_Store = GroceryStore(arrival_rate, service_rate)\n",
    "    \n",
    "    #creates a Schedule instance\n",
    "    schedule = Schedule()\n",
    "    \n",
    "    #Schedules a new customer (assumes no customer came early and waits outside the store)\n",
    "    Grocery_Store.arrival_time_customer(schedule)\n",
    "    \n",
    "    #runs the simulation\n",
    "    while schedule.now < run_until:\n",
    "        \n",
    "        #runs the next event\n",
    "        schedule.run_next_event()\n",
    "    \n",
    "    #returns the queue data\n",
    "    return Grocery_Store.queue.history\n",
    "    "
   ]
  },
  {
   "cell_type": "code",
   "execution_count": 5,
   "metadata": {},
   "outputs": [
    {
     "data": {
      "image/png": "[encoded data removed]",
      "text/plain": [
       "<Figure size 432x288 with 1 Axes>"
      ]
     },
     "metadata": {
      "needs_background": "light"
     },
     "output_type": "display_data"
    }
   ],
   "source": [
    "arrival_rate = 1\n",
    "service_rate = 1.1\n",
    "run_until = 600 #10 hours\n",
    "\n",
    "#the data to be plotted\n",
    "plot_data = run_simulation(arrival_rate, service_rate, run_until)\n",
    "\n",
    "#the queue length and the arrival times\n",
    "x_val = [datum[1] for datum in plot_data]\n",
    "y_val = [datum[0] for datum in plot_data]\n",
    "\n",
    "#plots the simulation\n",
    "plt.figure()\n",
    "plt.title('Simulated queue length over time')\n",
    "plt.plot(x_val, y_val, 'k.')\n",
    "plt.xlabel('time [s]')\n",
    "plt.ylabel('queue length')\n",
    "plt.show()"
   ]
  },
  {
   "cell_type": "code",
   "execution_count": 6,
   "metadata": {},
   "outputs": [
    {
     "name": "stdout",
     "output_type": "stream",
     "text": [
      "4.109777015437393\n",
      "4.545454545454543\n"
     ]
    }
   ],
   "source": [
    "print(sum(y_val)/len(y_val))\n",
    "print((arrival_rate/service_rate)**2/(2*(1-arrival_rate/service_rate)))"
   ]
  },
  {
   "cell_type": "markdown",
   "metadata": {},
   "source": [
    "In the most recent simulation with a utilization of approximatly 0.9, we would expect an average queue length of around 4.5. This agrees fairly well with our simulation as the average queue length is around 4.1"
   ]
  },
  {
   "cell_type": "markdown",
   "metadata": {},
   "source": [
    "#PythonImplementation: The described model was implemented using the scheduling heuristic. The simulation lets the user define relevant parameters and outputs appropriate data_viz displaying the state of the simulation at any given time. The data visualization appears as a continuous plot displaying the queue length throughout the simulation. \n",
    "The chosen data structure for storing the data of the simulation was regular lists since they allowed for modification (needed with an update of departure time). In the code, I've also provided 1 test that shows how the simulation operates close to what theory predicts. \n",
    "#CodeReadability: The code is well documented allowing the user(s) to follow along with the code. Variables are named appropriately (i.e. service_rate vs service_time). All methods are implemented under the relevant classes. \n"
   ]
  },
  {
   "cell_type": "code",
   "execution_count": null,
   "metadata": {},
   "outputs": [],
   "source": []
  },
  {
   "cell_type": "code",
   "execution_count": null,
   "metadata": {},
   "outputs": [],
   "source": []
  }
 ],
 "metadata": {
  "kernelspec": {
   "display_name": "Python 3",
   "language": "python",
   "name": "python3"
  },
  "language_info": {
   "codemirror_mode": {
    "name": "ipython",
    "version": 3
   },
   "file_extension": ".py",
   "mimetype": "text/x-python",
   "name": "python",
   "nbconvert_exporter": "python",
   "pygments_lexer": "ipython3",
   "version": "3.6.12"
  }
 },
 "nbformat": 4,
 "nbformat_minor": 4
}
