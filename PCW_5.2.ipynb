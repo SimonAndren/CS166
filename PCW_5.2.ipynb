{
 "cells": [
  {
   "cell_type": "markdown",
   "metadata": {},
   "source": [
    "### Part 1"
   ]
  },
  {
   "cell_type": "code",
   "execution_count": 1,
   "metadata": {},
   "outputs": [],
   "source": [
    "import numpy as np\n",
    "import matplotlib.pyplot as plt"
   ]
  },
  {
   "cell_type": "code",
   "execution_count": 2,
   "metadata": {},
   "outputs": [],
   "source": [
    "def random_walk(steps, p, path = False):\n",
    "    \"\"\"Negative numbers is defined as taking a left and positive number is right\n",
    "    \n",
    "    Returns the path history if prompted\"\"\"\n",
    "    \n",
    "    #Starting position\n",
    "    position = 0\n",
    "    \n",
    "    #data_store\n",
    "    data = [0]\n",
    "    \n",
    "    #loop over each step\n",
    "    for step in range(steps):\n",
    "        \n",
    "        #Move to the right\n",
    "        if np.random.random() > 0.4:\n",
    "            position += 1\n",
    "            \n",
    "        #move to the left\n",
    "        else:\n",
    "            position += -1\n",
    "        \n",
    "        data.append(position)\n",
    "        \n",
    "    #Return full path\n",
    "    if path:\n",
    "        return data\n",
    "    \n",
    "    #return only last position\n",
    "    else:\n",
    "        return data[-1]"
   ]
  },
  {
   "cell_type": "code",
   "execution_count": 3,
   "metadata": {},
   "outputs": [],
   "source": [
    "#parameters\n",
    "steps = 30\n",
    "p = 0.6\n",
    "trails = 20000\n"
   ]
  },
  {
   "cell_type": "code",
   "execution_count": 4,
   "metadata": {},
   "outputs": [
    {
     "data": {
      "image/png": "[encoded data removed]",
      "text/plain": [
       "<Figure size 432x288 with 1 Axes>"
      ]
     },
     "metadata": {
      "needs_background": "light"
     },
     "output_type": "display_data"
    }
   ],
   "source": [
    "#a)\n",
    "\n",
    "np.random.seed(3)\n",
    "\n",
    "path_data = random_walk(steps, p, path = True)\n",
    "\n",
    "plt.scatter(range(len(path_data)), path_data, marker = '.')\n",
    "plt.xlabel(\"Steps\")\n",
    "plt.ylabel(\"Position\")\n",
    "plt.title(\"Random walk path (+1 = right, -1 = left)\")\n",
    "plt.show()"
   ]
  },
  {
   "cell_type": "code",
   "execution_count": 5,
   "metadata": {},
   "outputs": [
    {
     "data": {
      "image/png": "[encoded data removed]",
      "text/plain": [
       "<Figure size 432x288 with 1 Axes>"
      ]
     },
     "metadata": {
      "needs_background": "light"
     },
     "output_type": "display_data"
    }
   ],
   "source": [
    "#b)\n",
    "\n",
    "#store data\n",
    "data = []\n",
    "\n",
    "\n",
    "#loop for each trail\n",
    "for trail in range(trails):\n",
    "    \n",
    "    data.append(random_walk(steps, p))\n",
    "    \n",
    "plt.hist(data)\n",
    "plt.xlabel(\"Final position\")\n",
    "plt.ylabel(\"Frequency\")\n",
    "plt.title(\"Distribution of final positions\")\n",
    "plt.show()"
   ]
  },
  {
   "cell_type": "code",
   "execution_count": 6,
   "metadata": {},
   "outputs": [
    {
     "name": "stdout",
     "output_type": "stream",
     "text": [
      "Sample mean = 6.0321\n",
      "Sample Variance = 28.71836959\n",
      "95% confidence interval: -4.471446478068442 to 16.535646478068443\n"
     ]
    }
   ],
   "source": [
    "#c and d\n",
    "data = np.array(data)\n",
    "print(f\"Sample mean = {data.mean()}\")\n",
    "print(f\"Sample Variance = {data.std()**2}\")\n",
    "print(f\"95% confidence interval: {data.mean() - 1.96*data.std()} to {data.mean() + 1.96*data.std()}\")"
   ]
  },
  {
   "cell_type": "markdown",
   "metadata": {},
   "source": [
    "The sample variance is expected to be very large since the bias (probability of right vs left) is very large. The variance and standard deviation will remain the same as we increase the sample size, but the standard error will decrease"
   ]
  },
  {
   "cell_type": "markdown",
   "metadata": {},
   "source": [
    "### Part 2"
   ]
  },
  {
   "cell_type": "code",
   "execution_count": 7,
   "metadata": {},
   "outputs": [],
   "source": [
    "def gamble(gambler, bank, max_interations):\n",
    "    \"\"\"This function computes the number of iteration until bank or gamber reaches bankruptcy\"\"\"\n",
    "    \n",
    "    #number of iterations\n",
    "    i = 0\n",
    "    \n",
    "    gambler = gambler\n",
    "    \n",
    "    #while neither the bank of the gambler is bankrupt and before the max iteration\n",
    "    while gambler > 0 and gambler < (bank + gambler) and i < max_interations:\n",
    "        \n",
    "        \n",
    "        #if gambler wins\n",
    "        if np.random.random() > 0.5:\n",
    "            gambler += 1\n",
    "            \n",
    "        #if gambler looose\n",
    "        else:\n",
    "            gambler += -1\n",
    "            \n",
    "        i += 1\n",
    "    \n",
    "    return i\n",
    "\n"
   ]
  },
  {
   "cell_type": "code",
   "execution_count": 10,
   "metadata": {},
   "outputs": [
    {
     "name": "stdout",
     "output_type": "stream",
     "text": [
      "Variance for upper_bound: 100 is: 0.0 and mean: 100.0\n",
      "Variance for upper_bound: 1000 is: 0.0 and mean: 1000.0\n",
      "Variance for upper_bound: 10000 is: 6649581.44 and mean: 8606.4\n",
      "Variance for upper_bound: 100000 is: 1983571347.04 and mean: 63769.6\n",
      "Variance for upper_bound: 1000000 is: 113821441798.6 and mean: 251861.0\n",
      "Variance for upper_bound: 10000000 is: 420906306655.36 and mean: 275812.8\n"
     ]
    }
   ],
   "source": [
    "trails = 10\n",
    "upper_bounds = [100, 1000, 10000, 100000, 1000000, 10000000]\n",
    "varience = []\n",
    "mean = []\n",
    "\n",
    "for upper_bound in upper_bounds:\n",
    "    sample_data = []\n",
    "    \n",
    "    for trail in range(trails):\n",
    "        sample_data.append(gamble(100, 2000, upper_bound))\n",
    "    \n",
    "    varience.append(np.array(sample_data).std()**2)\n",
    "    mean.append(np.array(sample_data).mean())\n",
    "\n",
    "for i in range(len(upper_bounds)):\n",
    "    print(f\"Variance for upper_bound: {upper_bounds[i]} is: {round(varience[i], 2)} and mean: {mean[i]}\")\n",
    "\n"
   ]
  },
  {
   "cell_type": "code",
   "execution_count": null,
   "metadata": {},
   "outputs": [],
   "source": []
  }
 ],
 "metadata": {
  "kernelspec": {
   "display_name": "Python 3",
   "language": "python",
   "name": "python3"
  },
  "language_info": {
   "codemirror_mode": {
    "name": "ipython",
    "version": 3
   },
   "file_extension": ".py",
   "mimetype": "text/x-python",
   "name": "python",
   "nbconvert_exporter": "python",
   "pygments_lexer": "ipython3",
   "version": "3.6.12"
  }
 },
 "nbformat": 4,
 "nbformat_minor": 4
}
