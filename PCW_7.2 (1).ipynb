{
 "cells": [
  {
   "cell_type": "code",
   "execution_count": 1,
   "metadata": {},
   "outputs": [],
   "source": [
    "import numpy as np\n",
    "import matplotlib.pyplot as plt\n",
    "import scipy.stats as sts"
   ]
  },
  {
   "cell_type": "code",
   "execution_count": 2,
   "metadata": {},
   "outputs": [],
   "source": [
    "#Traget distribution\n",
    "def f(x):\n",
    "    z = 24.44321494051954\n",
    "    \n",
    "    if abs(x) > 7:\n",
    "        return 0\n",
    "    elif abs(x) > 3:\n",
    "        return 3 * (1 - (x/7)**2)**0.5/z\n",
    "    elif abs(x) > 1:\n",
    "        return ((3 - abs(x))/2 - 3/7*10**0.5*((3-x**2+2*abs(x))**0.5 - 2))/z\n",
    "    elif abs(x) > 0.75:\n",
    "        return (9-8*abs(x))/z\n",
    "    elif abs(x) > 0.5:\n",
    "        return (3*abs(x) + 0.75) / z\n",
    "    else:\n",
    "        return 2.25/z"
   ]
  },
  {
   "cell_type": "code",
   "execution_count": 3,
   "metadata": {},
   "outputs": [],
   "source": [
    "def samples(steps = 100000):\n",
    "    \n",
    "    #list of samples\n",
    "    samples = []\n",
    "    \n",
    "    #starting x\n",
    "    x = np.random.normal(0, 2)\n",
    "    \n",
    "    #run the simulation the required steps\n",
    "    for i in range(1, steps):\n",
    "        \n",
    "        #New proposed state from normal centered at old x\n",
    "        y = np.random.normal(x, 2)\n",
    "        \n",
    "        #Find the probability of accepting the proposed state\n",
    "        p = min(1, f(y)/f(x))\n",
    "        \n",
    "        #switch with probability p\n",
    "        if p >= np.random.random():\n",
    "            x = y\n",
    "        \n",
    "        #Store only the 100th samples to reduce the dependency\n",
    "        if i%100 == 0:\n",
    "            samples.append(x)\n",
    "        \n",
    "    return samples\n",
    "    \n",
    "    "
   ]
  },
  {
   "cell_type": "code",
   "execution_count": 4,
   "metadata": {},
   "outputs": [],
   "source": [
    "sample = samples(steps = 100000)"
   ]
  },
  {
   "cell_type": "code",
   "execution_count": 9,
   "metadata": {},
   "outputs": [
    {
     "data": {
      "image/png": "[encoded data removed]",
      "text/plain": [
       "<Figure size 720x216 with 1 Axes>"
      ]
     },
     "metadata": {
      "needs_background": "light"
     },
     "output_type": "display_data"
    }
   ],
   "source": [
    "#plot histogram \n",
    "plt.figure(figsize = (10,3))\n",
    "plt.hist(sample, bins = 50, density = True)\n",
    "plt.show()"
   ]
  },
  {
   "cell_type": "code",
   "execution_count": null,
   "metadata": {},
   "outputs": [],
   "source": []
  }
 ],
 "metadata": {
  "kernelspec": {
   "display_name": "Python 3",
   "language": "python",
   "name": "python3"
  },
  "language_info": {
   "codemirror_mode": {
    "name": "ipython",
    "version": 3
   },
   "file_extension": ".py",
   "mimetype": "text/x-python",
   "name": "python",
   "nbconvert_exporter": "python",
   "pygments_lexer": "ipython3",
   "version": "3.6.12"
  }
 },
 "nbformat": 4,
 "nbformat_minor": 4
}
