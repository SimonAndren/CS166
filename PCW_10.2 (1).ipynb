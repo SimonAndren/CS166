{
 "cells": [
  {
   "cell_type": "code",
   "execution_count": 1,
   "metadata": {},
   "outputs": [],
   "source": [
    "import matplotlib as plt\n",
    "#matplotlib.use('TkAgg')\n",
    "from pylab import *\n",
    "import networkx as nx\n",
    "import random as rd\n",
    "\n",
    "def initialize():\n",
    "    g = nx.karate_club_graph()\n",
    "    g.pos = nx.spring_layout(g)\n",
    "    for i in g.nodes:\n",
    "        g.nodes[i]['state'] = 1 if random() < .5 else 0\n",
    "        \n",
    "    return g\n",
    "\n",
    "def observe(g):\n",
    "    cla()\n",
    "    nx.draw(g, vmin = 0, vmax = 1,\n",
    "            node_color = [g.nodes[i]['state'] for i in g.nodes],\n",
    "            pos = g.pos)\n",
    "\n",
    "def update(g):\n",
    "    listener = rd.choice(list(g.nodes))\n",
    "    speaker = rd.choice(list(g.neighbors(listener)))\n",
    "    g.nodes[listener]['state'] = g.nodes[speaker]['state']\n",
    "    \n",
    "    return g\n",
    "\n",
    "def update_rev(g):\n",
    "    speaker = rd.choice(list(g.nodes))\n",
    "    listener = rd.choice(list(g.neighbors(speaker)))\n",
    "    g.nodes[listener]['state'] = g.nodes[speaker]['state']\n",
    "    \n",
    "    return g\n",
    "\n",
    "def update_edge(g):\n",
    "    #Pick a random edge and make it to a list so it can be shuffles\n",
    "    edge = list(rd.choice(list(g.edges)))\n",
    "    \n",
    "    #shuffle the nodes in place\n",
    "    rd.shuffle(edge)\n",
    "    \n",
    "    #assign node to listner and speaker\n",
    "    listener = edge[0]\n",
    "    speaker = edge[1]\n",
    "    \n",
    "    #update the listner to be the same as peaker\n",
    "    g.nodes[listener]['state'] = g.nodes[speaker]['state']\n",
    "    \n",
    "    return g\n",
    "    \n",
    "def check_consens(g):\n",
    "    #function that checks if the network has reached consensus\n",
    "    #sum of all the states\n",
    "    sum_states = sum(list(dict(g.nodes(data = \"state\")).values()))\n",
    "    \n",
    "    #If the network is unanimous (i.e. all 0 or all 1)\n",
    "    if sum_states == 0 or sum_states == len(g.nodes):\n",
    "        return True\n",
    "    else:\n",
    "        return False"
   ]
  },
  {
   "cell_type": "code",
   "execution_count": 2,
   "metadata": {},
   "outputs": [],
   "source": [
    "def run_experiment(update_func = update, trails = 1000):\n",
    "    \n",
    "    #list to hold the data\n",
    "    result = []\n",
    "    \n",
    "    #run each trail\n",
    "    for i in range(trails):\n",
    "        \n",
    "        #Initialize the graph\n",
    "        g = initialize()\n",
    "        \n",
    "        #count for the number of iteration to consensus\n",
    "        count = 0\n",
    "        \n",
    "        #If not consensus\n",
    "        while not check_consens(g):\n",
    "            \n",
    "            #update the graph\n",
    "            g = update_func(g)\n",
    "            \n",
    "            #add to count\n",
    "            count += 1\n",
    "            \n",
    "        #apppend count to concensus\n",
    "        result.append(count)\n",
    "    \n",
    "    return result"
   ]
  },
  {
   "cell_type": "code",
   "execution_count": 3,
   "metadata": {},
   "outputs": [],
   "source": [
    "data1 = run_experiment()\n",
    "data2 = run_experiment(update_func = update_rev)\n",
    "data3 = run_experiment(update_func = update_edge)"
   ]
  },
  {
   "cell_type": "code",
   "execution_count": 4,
   "metadata": {},
   "outputs": [
    {
     "data": {
      "image/png": "[encoded data removed]",
      "text/plain": [
       "<Figure size 432x288 with 1 Axes>"
      ]
     },
     "metadata": {
      "needs_background": "light"
     },
     "output_type": "display_data"
    },
    {
     "data": {
      "image/png": "[encoded data removed]",
      "text/plain": [
       "<Figure size 432x288 with 1 Axes>"
      ]
     },
     "metadata": {
      "needs_background": "light"
     },
     "output_type": "display_data"
    },
    {
     "data": {
      "image/png": "[encoded data removed]",
      "text/plain": [
       "<Figure size 432x288 with 1 Axes>"
      ]
     },
     "metadata": {
      "needs_background": "light"
     },
     "output_type": "display_data"
    }
   ],
   "source": [
    "plt.hist(data1, bins = 40)\n",
    "plt.axvline(np.mean(np.array(data1)), color = \"red\", label = f\"Average = {np.mean(np.array(data1)):.0f}\")\n",
    "plt.legend()\n",
    "plt.title(\"Updates until consensus with original update\")\n",
    "plt.show()\n",
    "\n",
    "plt.hist(data2, bins = 40)\n",
    "plt.axvline(np.mean(np.array(data2)), color = \"red\", label = f\"Average = {np.mean(np.array(data2)):.0f}\")\n",
    "plt.legend()\n",
    "plt.title(\"Updates until consensus with reversed update\")\n",
    "plt.show()\n",
    "\n",
    "plt.hist(data3, bins = 40)\n",
    "plt.axvline(np.mean(np.array(data3)), color = \"red\", label = f\"Average = {np.mean(np.array(data3)):.0f}\")\n",
    "plt.legend()\n",
    "plt.title(\"Updates until consensus with edge update\")\n",
    "plt.show()"
   ]
  },
  {
   "cell_type": "markdown",
   "metadata": {},
   "source": [
    "As expected, consensus would be reached a lot faster under the original update rules. This is because the update rule would favor speaking time for the high conncted nodes. This is because the speaker is choosen after the random choice of listner\n",
    "\n",
    "Under the reversed update rule, the opposite would be true, in this case, the update rule would favor listner time for the high connected nodes. this would result in a slower convergence.\n",
    "\n",
    "As for the edge based update rule, it's somewhere in between.\n",
    "\n",
    "These histograms align well with my expectations. However, the histograms are all shaped in the same way which is interesting and why? I don't know?"
   ]
  }
 ],
 "metadata": {
  "kernelspec": {
   "display_name": "Python 3",
   "language": "python",
   "name": "python3"
  },
  "language_info": {
   "codemirror_mode": {
    "name": "ipython",
    "version": 3
   },
   "file_extension": ".py",
   "mimetype": "text/x-python",
   "name": "python",
   "nbconvert_exporter": "python",
   "pygments_lexer": "ipython3",
   "version": "3.6.12"
  }
 },
 "nbformat": 4,
 "nbformat_minor": 4
}
